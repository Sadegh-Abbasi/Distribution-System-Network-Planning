{
  "nbformat": 4,
  "nbformat_minor": 0,
  "metadata": {
    "colab": {
      "provenance": [],
      "authorship_tag": "ABX9TyMD1l6Q+khuLEFM2AWKlrfb",
      "include_colab_link": true
    },
    "kernelspec": {
      "name": "python3",
      "display_name": "Python 3"
    },
    "language_info": {
      "name": "python"
    }
  },
  "cells": [
    {
      "cell_type": "markdown",
      "metadata": {
        "id": "view-in-github",
        "colab_type": "text"
      },
      "source": [
        "<a href=\"https://colab.research.google.com/github/Sadegh-Abbasi/Distribution-System-Network-Planning/blob/main/Final.ipynb\" target=\"_parent\"><img src=\"https://colab.research.google.com/assets/colab-badge.svg\" alt=\"Open In Colab\"/></a>"
      ]
    },
    {
      "cell_type": "code",
      "source": [
        "%%capture\n",
        "!pip install pandapower"
      ],
      "metadata": {
        "colab": {
          "base_uri": "https://localhost:8080/"
        },
        "id": "QCVwE_R6mJ82",
        "outputId": "1e69b489-4a0e-41b4-c75c-4b23c8bc3765"
      },
      "execution_count": 1,
      "outputs": [
        {
          "output_type": "stream",
          "name": "stdout",
          "text": [
            "Looking in indexes: https://pypi.org/simple, https://us-python.pkg.dev/colab-wheels/public/simple/\n",
            "Collecting pandapower\n",
            "  Downloading pandapower-2.11.1.zip (6.2 MB)\n",
            "\u001b[2K     \u001b[90m━━━━━━━━━━━━━━━━━━━━━━━━━━━━━━━━━━━━━━━━\u001b[0m \u001b[32m6.2/6.2 MB\u001b[0m \u001b[31m62.6 MB/s\u001b[0m eta \u001b[36m0:00:00\u001b[0m\n",
            "\u001b[?25h  Preparing metadata (setup.py) ... \u001b[?25l\u001b[?25hdone\n",
            "Requirement already satisfied: pandas>=1.0 in /usr/local/lib/python3.9/dist-packages (from pandapower) (1.4.4)\n",
            "Requirement already satisfied: networkx>=2.5 in /usr/local/lib/python3.9/dist-packages (from pandapower) (3.0)\n",
            "Requirement already satisfied: scipy in /usr/local/lib/python3.9/dist-packages (from pandapower) (1.10.1)\n",
            "Requirement already satisfied: numpy in /usr/local/lib/python3.9/dist-packages (from pandapower) (1.22.4)\n",
            "Requirement already satisfied: packaging in /usr/local/lib/python3.9/dist-packages (from pandapower) (23.0)\n",
            "Requirement already satisfied: tqdm in /usr/local/lib/python3.9/dist-packages (from pandapower) (4.65.0)\n",
            "Collecting deepdiff\n",
            "  Downloading deepdiff-6.3.0-py3-none-any.whl (69 kB)\n",
            "\u001b[2K     \u001b[90m━━━━━━━━━━━━━━━━━━━━━━━━━━━━━━━━━━━━━━━━\u001b[0m \u001b[32m69.7/69.7 KB\u001b[0m \u001b[31m9.4 MB/s\u001b[0m eta \u001b[36m0:00:00\u001b[0m\n",
            "\u001b[?25hRequirement already satisfied: pytz>=2020.1 in /usr/local/lib/python3.9/dist-packages (from pandas>=1.0->pandapower) (2022.7.1)\n",
            "Requirement already satisfied: python-dateutil>=2.8.1 in /usr/local/lib/python3.9/dist-packages (from pandas>=1.0->pandapower) (2.8.2)\n",
            "Collecting ordered-set<4.2.0,>=4.0.2\n",
            "  Downloading ordered_set-4.1.0-py3-none-any.whl (7.6 kB)\n",
            "Requirement already satisfied: six>=1.5 in /usr/local/lib/python3.9/dist-packages (from python-dateutil>=2.8.1->pandas>=1.0->pandapower) (1.16.0)\n",
            "Building wheels for collected packages: pandapower\n",
            "  Building wheel for pandapower (setup.py) ... \u001b[?25l\u001b[?25hdone\n",
            "  Created wheel for pandapower: filename=pandapower-2.11.1-py3-none-any.whl size=6164023 sha256=b46fa78104ad741a991e303090981da37a1e880b093a85c7108c347c995c2d21\n",
            "  Stored in directory: /root/.cache/pip/wheels/99/fe/ca/584068111bdb7efe3e892edbe89505797cc3fe031236bb8aab\n",
            "Successfully built pandapower\n",
            "Installing collected packages: ordered-set, deepdiff, pandapower\n",
            "Successfully installed deepdiff-6.3.0 ordered-set-4.1.0 pandapower-2.11.1\n"
          ]
        }
      ]
    },
    {
      "cell_type": "code",
      "source": [
        "import pandapower as pp\n",
        "import pandas as pd\n",
        "import pandapower.shortcircuit as sc\n",
        "from pandapower.plotting.plotly.mapbox_plot import set_mapbox_token\n",
        "# please add your mapbox token\n",
        "set_mapbox_token()\n",
        "from pandapower.plotting.plotly import simple_plotly\n",
        "from pandapower.plotting.plotly import pf_res_plotly"
      ],
      "metadata": {
        "id": "wimdN59xm3CE"
      },
      "execution_count": null,
      "outputs": []
    },
    {
      "cell_type": "markdown",
      "source": [],
      "metadata": {
        "id": "NatbjhE8nGXd"
      }
    },
    {
      "cell_type": "code",
      "source": [
        "# please write the address of excel input file the name of it in the sent fiels is Project V.2 \n",
        "fadress='./Project V.2.xlsx'\n",
        "\n",
        "net = pp.create_empty_network(f_hz=50.0,sn_mva=1)\n",
        "nb=0"
      ],
      "metadata": {
        "id": "N8zwDMmnm9H1"
      },
      "execution_count": null,
      "outputs": []
    },
    {
      "cell_type": "markdown",
      "source": [
        "#functions"
      ],
      "metadata": {
        "id": "YWSMa0EdnLMI"
      }
    },
    {
      "cell_type": "markdown",
      "source": [
        "##Busses\n",
        "Des\n"
      ],
      "metadata": {
        "id": "iLmYSczunkHx"
      }
    },
    {
      "cell_type": "code",
      "source": [
        "def Buses(all):\n",
        "    #Defining Buses\n",
        "    df= pd.read_excel(fadress, sheet_name=\"Bus\", index_col=0)\n",
        "    for idx in df.index:\n",
        "        pp.create_bus(net,vn_kv=df.at[idx,\"Voltage\"],name=df.at[idx,\"Bus name\"],geodata=(df.at[idx,\"location Y\"], df.at[idx,\"location X\"]))\n",
        "        global nb\n",
        "        nb=len(df)\n",
        "    \n",
        "    #Defining All the Primary Busses\n",
        "    if all==True:\n",
        "        df= pd.read_excel(fadress, sheet_name=\"Primary Buses\", index_col=0)\n",
        "        for idx in df.index:\n",
        "            pp.create_bus(net,vn_kv=df.at[idx,\"Voltage\"],name=df.at[idx,\"Bus name\"],geodata=(df.at[idx,\"location Y\"], df.at[idx,\"location X\"]))\n",
        "            b=int(nb+idx-1)\n",
        "            pp.create_ext_grid(net, bus=net.bus.index[b], name=\"infinite\", vm_pu=1.00, va_degree=0.0)\n",
        "    return(nb)  "
      ],
      "metadata": {
        "id": "gQXi5IKono7u"
      },
      "execution_count": null,
      "outputs": []
    },
    {
      "cell_type": "markdown",
      "source": [
        "##Loads"
      ],
      "metadata": {
        "id": "stNBst43nzOQ"
      }
    },
    {
      "cell_type": "code",
      "execution_count": null,
      "metadata": {
        "id": "LipbvYt1ld6c"
      },
      "outputs": [],
      "source": [
        "\n",
        "\n",
        "def Loads(state):\n",
        "    #Defining Loads  Now or 20 Years\n",
        "    df=pd.read_excel(fadress, sheet_name=\"Load\", index_col=0)\n",
        "    if state==\"Now\":\n",
        "        for idx in df.index:\n",
        "            pp.create_load(net,name=df.at[idx,\"Name\"],bus=df.at[idx,\"Bus\"],p_mw=df.at[idx,\"Pmax\"],q_mvar=df.at[idx,\"Qmax\"],max_p_mw=df.at[idx,\"Pmax\"],min_p_mw=df.at[idx,\"Pmin\"],max_q_mvar=df.at[idx,\"Qmax\"],min_q_mvar=df.at[idx,\"Qmin\"])\n",
        "    # withh p=pmax and q=qmax  pp.create_load(net,name=df.at[idx,\"Name\"],bus=df.at[idx,\"Bus\"],p_mw=df.at[idx,\"Pmax\"],q_mvar=df.at[idx,\"Qmax\"],max_p_mw=df.at[idx,\"Pmax\"],min_p_mw=df.at[idx,\"Pmin\"],max_q_mvar=df.at[idx,\"Qmax\"],min_q_mvar=df.at[idx,\"Qmin\"])\n",
        "    elif state==\"20years\":\n",
        "        for idx in df.index:\n",
        "            pp.create_load(net,name=df.at[idx,\"Name\"],bus=df.at[idx,\"Bus\"],p_mw=df.at[idx,\"Pmax20\"],q_mvar=df.at[idx,\"Qmax20\"],max_p_mw=df.at[idx,\"Pmax20\"],min_p_mw=df.at[idx,\"Pmin20\"],max_q_mvar=df.at[idx,\"Qmax20\"],min_q_mvar=df.at[idx,\"Qmin20\"])\n",
        "    return\n",
        "def Line():\n",
        "#Defining Lines\n",
        "    df=pd.read_excel(fadress, sheet_name=\"Line\", index_col=0)\n",
        "    for idx in df.index:\n",
        "        pp.create_line_from_parameters(net,name=df.at[idx,\"name\"],from_bus=df.at[idx,\"from_bus\"],to_bus=df.at[idx,\"to_bus\"],length_km=df.at[idx,\"length_km\"],r_ohm_per_km=df.at[idx,\"r_ohm_per_km\"],x_ohm_per_km=df.at[idx,\"x_ohm_per_km\"],c_nf_per_km=df.at[idx,\"c_nf_per_km\"],r0_ohm_per_km=df.at[idx,\"r0_ohm_per_km\"],x0_ohm_per_km=df.at[idx,\"x0_ohm_per_km\"],c0_nf_per_km=df.at[idx,\"c0_nf_per_km\"],max_i_ka=df.at[idx,\"max_i_ka\"])\n",
        "    #print(*df.loc[idx, :])\n",
        "    return\n",
        "def rest():\n",
        "    #Defining External Grids\n",
        "    pp.create_ext_grid(net, bus=net.bus.index[1], name=\"P05\", vm_pu=1.00, va_degree=0.0,s_sc_max_mva=2400,rx_max=0)\n",
        "    pp.create_ext_grid(net, bus=net.bus.index[0], name=\"P04\", vm_pu=1.00, va_degree=0.0,s_sc_max_mva=2400,rx_max=0) \n",
        "    \"\"\" pp.create_ext_grid(net, bus=net.bus.index[nb-1], name=\"P05\", vm_pu=1.00, va_degree=0.0,s_sc_max_mva=2400,rx_max=0)\n",
        "    pp.create_ext_grid(net, bus=net.bus.index[nb-2], name=\"P04\", vm_pu=1.00, va_degree=0.0,s_sc_max_mva=2400,rx_max=0) \"\"\"\n",
        "#Defining Transformers\n",
        "    pp.create_transformer(net, net.bus.index[nb-1], net.bus.index[1] , std_type=\"40 MVA 110/20 kV\",parallel=2)\n",
        "    pp.create_transformer(net, net.bus.index[nb-2], net.bus.index[0] , std_type=\"40 MVA 110/20 kV\",parallel=2)\n",
        "    \"\"\"     net.trafo.uk_percent[0]=0.1\n",
        "    net.trafo.uk_percent[1]=0.1 \"\"\"\n",
        "    net.trafo.vk_percent[0]=10\n",
        "    net.trafo.vk_percent[1]=10\n",
        "    net.trafo.vkr_percent[0]=0.0\n",
        "    net.trafo.vkr_percent[1]=0.0\n",
        "    net.trafo.tap_pos[0]=0\n",
        "    net.trafo.tap_pos[1]=0\n",
        "    print(net.trafo)\n",
        "    #print(net.bus)\n",
        "    return\n",
        "\n",
        "\n",
        "\n",
        "def Operation_Topology (state):\n",
        "    if state=='Normal':\n",
        "        swo = pp.create_switch(net, bus=net.bus.index[9], element=net.line.index[8], et=\"l\", type=\"LBS\", closed=False)\n",
        "        print(state)\n",
        "        return()\n",
        "    elif state== 'Contingency_P04':\n",
        "        sw4 = pp.create_switch(net, bus=net.bus.index[0], element=net.line.index[16], et=\"l\", type=\"LBS\", closed=False)\n",
        "        print(state)\n",
        "        return()\n",
        "    elif state== 'Contingency_P05':\n",
        "        sw4 = pp.create_switch(net, bus=net.bus.index[1], element=net.line.index[0], et=\"l\", type=\"LBS\", closed=False)\n",
        "        print(state)\n",
        "        return()\n",
        "def SC_calculation():\n",
        "    sc.calc_sc(net, case=\"max\",branch_results=True)\n",
        "    net.res_bus_sc\n",
        "    net.res_line_sc\n",
        "def SC_calculation_presentation(line,bus):\n",
        "    if line==True:\n",
        "        print(net.res_line_sc)\n",
        "    if bus==True:\n",
        "        print(net.res_bus_sc)\n",
        "    return\n",
        "def Powerflow_calculation():\n",
        "    pp.runpp(net,\"nr\")\n",
        "def Powerflow_presentation(table,map):\n",
        "    if table==True:\n",
        "        print(net.res_line)\n",
        "    if map==True:\n",
        "        pf_res_plotly(net,on_map=True,map_style=\"streets\", projection=\"epsg:3035\")\n",
        "    return\n",
        "def Operation_Topology_presentation (style):\n",
        "    simple_plotly(net, on_map=True, map_style=style, projection=\"epsg:3035\")\n",
        "\n",
        "\n",
        "Buses(all=False)\n",
        "Loads(state=\"Now\") \n",
        "#Loads(state=\"20years\")\n",
        "Line()\n",
        "rest()\n",
        "Operation_Topology(state=\"Normal\")\n",
        "#Operation_Topology(state='Contingency_P04')\n",
        "#Operation_Topology(state='Contingency_P05')\n",
        "\n",
        "#Operation_Topology_presentation(style='streets')\n",
        "# style can be streets, dark, satellite\n",
        "SC_calculation()\n",
        "Powerflow_calculation()\n",
        "Powerflow_presentation(table=True,map=True)\n",
        "SC_calculation_presentation(line=True,bus=False)\n"
      ]
    }
  ]
}